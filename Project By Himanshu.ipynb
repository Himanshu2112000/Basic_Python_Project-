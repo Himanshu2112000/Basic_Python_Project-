{
 "cells": [
  {
   "cell_type": "markdown",
   "id": "b58e2f07",
   "metadata": {},
   "source": [
    "# Python Project "
   ]
  },
  {
   "cell_type": "markdown",
   "id": "82506ef2",
   "metadata": {},
   "source": [
    "#                                              Basic Python "
   ]
  },
  {
   "cell_type": "markdown",
   "id": "fd931e8d",
   "metadata": {},
   "source": [
    "## String Indexing:"
   ]
  },
  {
   "cell_type": "markdown",
   "id": "b20fa788",
   "metadata": {},
   "source": [
    "String indexing provides a powerful way to manipulate and access individual characters or substrings within a string in \n",
    "Python. string indexing is a fundamental concept in Python that allows you to work with individual characters or substrings\n",
    "within strings, enabling various string manipulation operations."
   ]
  },
  {
   "cell_type": "markdown",
   "id": "0f4eb19d",
   "metadata": {},
   "source": [
    "### Question 1"
   ]
  },
  {
   "cell_type": "markdown",
   "id": "f88bc0f7",
   "metadata": {},
   "source": [
    "How can you access the first character of a string using indexing?"
   ]
  },
  {
   "cell_type": "code",
   "execution_count": 1,
   "id": "ef9f5eaa",
   "metadata": {},
   "outputs": [
    {
     "name": "stdout",
     "output_type": "stream",
     "text": [
      "The first character of the string is: h\n"
     ]
    }
   ],
   "source": [
    "my_string = \"hello\"\n",
    "first_character = my_string[0]\n",
    "print(\"The first character of the string is:\", first_character)\n"
   ]
  },
  {
   "cell_type": "markdown",
   "id": "d768401e",
   "metadata": {},
   "source": [
    "## Question 2"
   ]
  },
  {
   "cell_type": "code",
   "execution_count": null,
   "id": "699ae9c7",
   "metadata": {},
   "outputs": [],
   "source": [
    "Can you retrieve the last character of a string using negative indexing?"
   ]
  },
  {
   "cell_type": "code",
   "execution_count": 2,
   "id": "869ca940",
   "metadata": {},
   "outputs": [
    {
     "name": "stdout",
     "output_type": "stream",
     "text": [
      "The last character of the string is: d\n"
     ]
    }
   ],
   "source": [
    "my_string = \"world\"\n",
    "last_character = my_string[-1]\n",
    "print(\"The last character of the string is:\", last_character)\n"
   ]
  },
  {
   "cell_type": "markdown",
   "id": "ce3dcbe8",
   "metadata": {},
   "source": [
    "## Question 3 "
   ]
  },
  {
   "cell_type": "code",
   "execution_count": null,
   "id": "7056f8f4",
   "metadata": {},
   "outputs": [],
   "source": [
    "How would you extract a substring from a string using slicing?"
   ]
  },
  {
   "cell_type": "code",
   "execution_count": 3,
   "id": "37e745f8",
   "metadata": {},
   "outputs": [
    {
     "name": "stdout",
     "output_type": "stream",
     "text": [
      "The substring is: tho\n"
     ]
    }
   ],
   "source": [
    "my_string = \"python\"\n",
    "substring = my_string[2:5]                                                       \n",
    "print(\"The substring is:\", substring)"
   ]
  },
  {
   "cell_type": "markdown",
   "id": "c1df8f81",
   "metadata": {},
   "source": [
    "## Question 4 "
   ]
  },
  {
   "cell_type": "code",
   "execution_count": null,
   "id": "4e8c7768",
   "metadata": {},
   "outputs": [],
   "source": [
    "How do you reverse a string using slicing?"
   ]
  },
  {
   "cell_type": "code",
   "execution_count": 4,
   "id": "3f00da65",
   "metadata": {},
   "outputs": [
    {
     "name": "stdout",
     "output_type": "stream",
     "text": [
      "olleH\n"
     ]
    }
   ],
   "source": [
    "string = \"Hello\"\n",
    "reversed_string = string[::-1]\n",
    "print(reversed_string)"
   ]
  },
  {
   "cell_type": "markdown",
   "id": "381f2a91",
   "metadata": {},
   "source": [
    "## Question 5 "
   ]
  },
  {
   "cell_type": "code",
   "execution_count": null,
   "id": "63918cfc",
   "metadata": {},
   "outputs": [],
   "source": [
    "How do you count the occurrences of a character in a string?"
   ]
  },
  {
   "cell_type": "code",
   "execution_count": 5,
   "id": "27c4e089",
   "metadata": {},
   "outputs": [
    {
     "name": "stdout",
     "output_type": "stream",
     "text": [
      "Number of 'e' in the string: 1\n"
     ]
    }
   ],
   "source": [
    "string = \"Hello\"\n",
    "count_e = string.count('e')\n",
    "print(\"Number of 'e' in the string:\", count_e)  "
   ]
  },
  {
   "cell_type": "markdown",
   "id": "afc83fed",
   "metadata": {},
   "source": [
    "# List Operations:"
   ]
  },
  {
   "cell_type": "markdown",
   "id": "026da965",
   "metadata": {},
   "source": [
    "list operations provide various ways to manipulate and access elements within lists, making lists versatile and powerful data structures in Python."
   ]
  },
  {
   "cell_type": "markdown",
   "id": "75900dc9",
   "metadata": {},
   "source": [
    "## Question 6 "
   ]
  },
  {
   "cell_type": "markdown",
   "id": "b8ea7d34",
   "metadata": {},
   "source": [
    "## How do you access elements in a list using indexing?"
   ]
  },
  {
   "cell_type": "code",
   "execution_count": 6,
   "id": "864a1726",
   "metadata": {},
   "outputs": [
    {
     "name": "stdout",
     "output_type": "stream",
     "text": [
      "1\n",
      "4\n"
     ]
    }
   ],
   "source": [
    "my_list = [1, 2, 3, 4, 5]\n",
    "print(my_list[0])  \n",
    "print(my_list[3])  "
   ]
  },
  {
   "cell_type": "markdown",
   "id": "874dd74e",
   "metadata": {},
   "source": [
    "## Question 7 "
   ]
  },
  {
   "cell_type": "code",
   "execution_count": null,
   "id": "6f848492",
   "metadata": {},
   "outputs": [],
   "source": [
    "How do you change the value of an element in a list?"
   ]
  },
  {
   "cell_type": "code",
   "execution_count": 7,
   "id": "a750d198",
   "metadata": {},
   "outputs": [
    {
     "name": "stdout",
     "output_type": "stream",
     "text": [
      "[1, 2, 10, 4, 5]\n"
     ]
    }
   ],
   "source": [
    "my_list = [1, 2, 3, 4, 5]\n",
    "my_list[2] = 10\n",
    "print(my_list)"
   ]
  },
  {
   "cell_type": "markdown",
   "id": "7918fc30",
   "metadata": {},
   "source": [
    "## Question 8"
   ]
  },
  {
   "cell_type": "code",
   "execution_count": null,
   "id": "71972619",
   "metadata": {},
   "outputs": [],
   "source": [
    "How do you append an element to the end of a list?"
   ]
  },
  {
   "cell_type": "code",
   "execution_count": 8,
   "id": "713d9a29",
   "metadata": {},
   "outputs": [
    {
     "name": "stdout",
     "output_type": "stream",
     "text": [
      "[1, 2, 3, 4]\n"
     ]
    }
   ],
   "source": [
    "my_list = [1, 2, 3]\n",
    "my_list.append(4)\n",
    "print(my_list)"
   ]
  },
  {
   "cell_type": "markdown",
   "id": "5ce593a6",
   "metadata": {},
   "source": [
    "## Question 9 "
   ]
  },
  {
   "cell_type": "code",
   "execution_count": null,
   "id": "c2835782",
   "metadata": {},
   "outputs": [],
   "source": [
    "How do you remove an element from a list?"
   ]
  },
  {
   "cell_type": "code",
   "execution_count": 9,
   "id": "7355b33c",
   "metadata": {},
   "outputs": [
    {
     "name": "stdout",
     "output_type": "stream",
     "text": [
      "[1, 2, 4, 5]\n"
     ]
    }
   ],
   "source": [
    "my_list = [1, 2, 3, 4, 5]\n",
    "my_list.remove(3)\n",
    "print(my_list)"
   ]
  },
  {
   "cell_type": "markdown",
   "id": "5514f9cc",
   "metadata": {},
   "source": [
    "# Dictionary Operations:"
   ]
  },
  {
   "cell_type": "markdown",
   "id": "20631d96",
   "metadata": {},
   "source": [
    "Dictionaries are collections of key-value pairs, where each key is associated with a value. Dictionary operations allow you to manipulate, access, and perform actions on these key-value pairs.Dictionary operations in Python involve various actions you can perform on dictionaries, which are unordered collections of key-value pairs."
   ]
  },
  {
   "cell_type": "markdown",
   "id": "531d634e",
   "metadata": {},
   "source": [
    "## Question 10 "
   ]
  },
  {
   "cell_type": "code",
   "execution_count": null,
   "id": "90f5486f",
   "metadata": {},
   "outputs": [],
   "source": [
    "How do you access the value associated with a key in a dictionary?"
   ]
  },
  {
   "cell_type": "code",
   "execution_count": 10,
   "id": "e33ecc7c",
   "metadata": {},
   "outputs": [
    {
     "name": "stdout",
     "output_type": "stream",
     "text": [
      "John\n",
      "30\n"
     ]
    }
   ],
   "source": [
    "my_dict = {'name': 'John', 'age': 30, 'city': 'New York'}\n",
    "print(my_dict['name'])  \n",
    "print(my_dict['age'])"
   ]
  },
  {
   "cell_type": "markdown",
   "id": "cf636c7c",
   "metadata": {},
   "source": [
    "## Question 11 "
   ]
  },
  {
   "cell_type": "code",
   "execution_count": null,
   "id": "13e62844",
   "metadata": {},
   "outputs": [],
   "source": [
    "How do you change the value associated with a key in a dictionary?"
   ]
  },
  {
   "cell_type": "code",
   "execution_count": 11,
   "id": "7a2abdcd",
   "metadata": {},
   "outputs": [
    {
     "name": "stdout",
     "output_type": "stream",
     "text": [
      "31\n"
     ]
    }
   ],
   "source": [
    "my_dict = {'name': 'John', 'age': 30, 'city': 'New York'}\n",
    "my_dict['age'] = 31\n",
    "print(my_dict['age'])"
   ]
  },
  {
   "cell_type": "markdown",
   "id": "17436c22",
   "metadata": {},
   "source": [
    "## Question 12"
   ]
  },
  {
   "cell_type": "code",
   "execution_count": null,
   "id": "412e0d5a",
   "metadata": {},
   "outputs": [],
   "source": [
    "How do you add a new key-value pair to a dictionary?"
   ]
  },
  {
   "cell_type": "code",
   "execution_count": 12,
   "id": "09afb6f7",
   "metadata": {},
   "outputs": [
    {
     "name": "stdout",
     "output_type": "stream",
     "text": [
      "{'name': 'John', 'age': 30, 'city': 'New York'}\n"
     ]
    }
   ],
   "source": [
    "my_dict = {'name': 'John', 'age': 30}\n",
    "my_dict['city'] = 'New York'\n",
    "print(my_dict)"
   ]
  },
  {
   "cell_type": "markdown",
   "id": "194b9d46",
   "metadata": {},
   "source": [
    "## Question 13"
   ]
  },
  {
   "cell_type": "code",
   "execution_count": null,
   "id": "b9da9454",
   "metadata": {},
   "outputs": [],
   "source": [
    "How do you remove a key-value pair from a dictionary?"
   ]
  },
  {
   "cell_type": "code",
   "execution_count": 13,
   "id": "2e45ddd3",
   "metadata": {},
   "outputs": [
    {
     "name": "stdout",
     "output_type": "stream",
     "text": [
      "{'name': 'John', 'city': 'New York'}\n"
     ]
    }
   ],
   "source": [
    "my_dict = {'name': 'John', 'age': 30, 'city': 'New York'}\n",
    "my_dict.pop('age')\n",
    "print(my_dict)"
   ]
  },
  {
   "cell_type": "markdown",
   "id": "3e817483",
   "metadata": {},
   "source": [
    "## Question 14"
   ]
  },
  {
   "cell_type": "code",
   "execution_count": null,
   "id": "e3591310",
   "metadata": {},
   "outputs": [],
   "source": [
    "How do you check if a key exists in a dictionary?"
   ]
  },
  {
   "cell_type": "code",
   "execution_count": 14,
   "id": "fd54deff",
   "metadata": {},
   "outputs": [
    {
     "name": "stdout",
     "output_type": "stream",
     "text": [
      "Key 'age' exists in the dictionary.\n"
     ]
    }
   ],
   "source": [
    "my_dict = {'name': 'John', 'age': 30, 'city': 'New York'}\n",
    "if 'age' in my_dict:\n",
    "    print(\"Key 'age' exists in the dictionary.\")\n",
    "else:\n",
    "    print(\"Key 'age' does not exist in the dictionary.\")"
   ]
  },
  {
   "cell_type": "markdown",
   "id": "251ed1e2",
   "metadata": {},
   "source": [
    "# Functions ( Len, Max, Sum )"
   ]
  },
  {
   "cell_type": "markdown",
   "id": "91e3de0e",
   "metadata": {},
   "source": [
    "These built-in functions provide convenient ways to perform common operations in Python programming, such as calculating totals, finding lengths, and identifying maximum or minimum values."
   ]
  },
  {
   "cell_type": "markdown",
   "id": "2b5ca3f0",
   "metadata": {},
   "source": [
    "## Question 15"
   ]
  },
  {
   "cell_type": "code",
   "execution_count": null,
   "id": "2adac327",
   "metadata": {},
   "outputs": [],
   "source": [
    "Finding the sum of elements in a list"
   ]
  },
  {
   "cell_type": "code",
   "execution_count": 15,
   "id": "1c7dbd27",
   "metadata": {},
   "outputs": [
    {
     "name": "stdout",
     "output_type": "stream",
     "text": [
      "15\n"
     ]
    }
   ],
   "source": [
    "my_list = [1, 2, 3, 4, 5]\n",
    "total = sum(my_list)\n",
    "print(total)"
   ]
  },
  {
   "cell_type": "markdown",
   "id": "22211d1d",
   "metadata": {},
   "source": [
    "## Question 16"
   ]
  },
  {
   "cell_type": "code",
   "execution_count": null,
   "id": "4c5e50be",
   "metadata": {},
   "outputs": [],
   "source": [
    "Finding the sum of elements in a tuple"
   ]
  },
  {
   "cell_type": "code",
   "execution_count": null,
   "id": "6173f3f9",
   "metadata": {},
   "outputs": [],
   "source": [
    "my_tuple = (1, 2, 3, 4, 5)\n",
    "total = sum(my_tuple)\n",
    "print(total)  "
   ]
  },
  {
   "cell_type": "markdown",
   "id": "8316ba08",
   "metadata": {},
   "source": [
    "## Question 17"
   ]
  },
  {
   "cell_type": "code",
   "execution_count": null,
   "id": "b667ea9e",
   "metadata": {},
   "outputs": [],
   "source": [
    "Finding the sum of elements in a set:"
   ]
  },
  {
   "cell_type": "code",
   "execution_count": 16,
   "id": "60b8d576",
   "metadata": {},
   "outputs": [
    {
     "name": "stdout",
     "output_type": "stream",
     "text": [
      "15\n"
     ]
    }
   ],
   "source": [
    "my_set = {1, 2, 3, 4, 5}\n",
    "total = sum(my_set)\n",
    "print(total)"
   ]
  },
  {
   "cell_type": "markdown",
   "id": "13d81aac",
   "metadata": {},
   "source": [
    "## Question 18"
   ]
  },
  {
   "cell_type": "code",
   "execution_count": null,
   "id": "2344d2bf",
   "metadata": {},
   "outputs": [],
   "source": [
    "Finding the length of a string:"
   ]
  },
  {
   "cell_type": "code",
   "execution_count": 17,
   "id": "615e2bab",
   "metadata": {},
   "outputs": [
    {
     "name": "stdout",
     "output_type": "stream",
     "text": [
      "13\n"
     ]
    }
   ],
   "source": [
    "my_string = \"Hello, world!\"\n",
    "length = len(my_string)\n",
    "print(length)"
   ]
  },
  {
   "cell_type": "markdown",
   "id": "b043eb24",
   "metadata": {},
   "source": [
    "## Question 19"
   ]
  },
  {
   "cell_type": "code",
   "execution_count": null,
   "id": "a185a65b",
   "metadata": {},
   "outputs": [],
   "source": [
    "Finding the length of a dictionary (returns the number of key-value pairs)"
   ]
  },
  {
   "cell_type": "code",
   "execution_count": 18,
   "id": "b0d405f8",
   "metadata": {},
   "outputs": [
    {
     "name": "stdout",
     "output_type": "stream",
     "text": [
      "3\n"
     ]
    }
   ],
   "source": [
    "my_dict = {'a': 1, 'b': 2, 'c': 3}\n",
    "length = len(my_dict)\n",
    "print(length)"
   ]
  },
  {
   "cell_type": "markdown",
   "id": "9d1a7c5a",
   "metadata": {},
   "source": [
    "## Question 20"
   ]
  },
  {
   "cell_type": "code",
   "execution_count": null,
   "id": "036d699d",
   "metadata": {},
   "outputs": [],
   "source": [
    "Finding the length of a tuple"
   ]
  },
  {
   "cell_type": "code",
   "execution_count": 19,
   "id": "07b8a7e9",
   "metadata": {},
   "outputs": [
    {
     "name": "stdout",
     "output_type": "stream",
     "text": [
      "5\n"
     ]
    }
   ],
   "source": [
    "my_tuple = (1, 2, 3, 4, 5)\n",
    "length = len(my_tuple)\n",
    "print(length)"
   ]
  },
  {
   "cell_type": "markdown",
   "id": "e4e2eeb3",
   "metadata": {},
   "source": [
    "## Question 21"
   ]
  },
  {
   "cell_type": "code",
   "execution_count": null,
   "id": "8ce1f348",
   "metadata": {},
   "outputs": [],
   "source": [
    "Finding the maximum character based on their ASCII values:"
   ]
  },
  {
   "cell_type": "code",
   "execution_count": 20,
   "id": "517655fa",
   "metadata": {},
   "outputs": [
    {
     "name": "stdout",
     "output_type": "stream",
     "text": [
      "o\n"
     ]
    }
   ],
   "source": [
    "my_string = \"hello\"\n",
    "maximum = max(my_string)\n",
    "print(maximum)  "
   ]
  },
  {
   "cell_type": "markdown",
   "id": "525dc0e9",
   "metadata": {},
   "source": [
    "## Question 22"
   ]
  },
  {
   "cell_type": "code",
   "execution_count": null,
   "id": "f268d6b6",
   "metadata": {},
   "outputs": [],
   "source": [
    " finding the maximum string based on their lengths"
   ]
  },
  {
   "cell_type": "code",
   "execution_count": 21,
   "id": "534ab960",
   "metadata": {},
   "outputs": [
    {
     "name": "stdout",
     "output_type": "stream",
     "text": [
      "banana\n"
     ]
    }
   ],
   "source": [
    "my_list = [\"apple\", \"banana\", \"orange\", \"grape\"]\n",
    "maximum = max(my_list, key=len)\n",
    "print(maximum)"
   ]
  },
  {
   "cell_type": "markdown",
   "id": "aaf565bd",
   "metadata": {},
   "source": [
    "## Question 23"
   ]
  },
  {
   "cell_type": "code",
   "execution_count": null,
   "id": "98b7dc12",
   "metadata": {},
   "outputs": [],
   "source": [
    "Finding the maximum element from multiple arguments"
   ]
  },
  {
   "cell_type": "code",
   "execution_count": 22,
   "id": "dbcfb586",
   "metadata": {},
   "outputs": [
    {
     "name": "stdout",
     "output_type": "stream",
     "text": [
      "10\n"
     ]
    }
   ],
   "source": [
    "maximum = max(5, 8, 2, 10, 3)\n",
    "print(maximum)"
   ]
  },
  {
   "cell_type": "markdown",
   "id": "9628509f",
   "metadata": {},
   "source": [
    "## Question 24"
   ]
  },
  {
   "cell_type": "code",
   "execution_count": null,
   "id": "e070879d",
   "metadata": {},
   "outputs": [],
   "source": [
    "Finding the maximum element from a set"
   ]
  },
  {
   "cell_type": "code",
   "execution_count": 23,
   "id": "4779dc27",
   "metadata": {},
   "outputs": [
    {
     "name": "stdout",
     "output_type": "stream",
     "text": [
      "10\n"
     ]
    }
   ],
   "source": [
    "my_set = {5, 8, 2, 10, 3}\n",
    "maximum = max(my_set)\n",
    "print(maximum)"
   ]
  },
  {
   "cell_type": "markdown",
   "id": "b626a524",
   "metadata": {},
   "source": [
    "# Looping statements ( While and for looping)"
   ]
  },
  {
   "cell_type": "markdown",
   "id": "f5fe2a65",
   "metadata": {},
   "source": [
    "the for loop is used for iterating over a sequence of items, while the while loop is used for executing code based on a condition that can change during execution. Both types of loops are essential constructs in Python programming and provide different ways to control the flow of execution in your code."
   ]
  },
  {
   "cell_type": "markdown",
   "id": "aef86850",
   "metadata": {},
   "source": [
    "## Question 25"
   ]
  },
  {
   "cell_type": "markdown",
   "id": "78f3532b",
   "metadata": {},
   "source": [
    "##### Print only the even numbers present in the given list."
   ]
  },
  {
   "cell_type": "code",
   "execution_count": 1,
   "id": "0819ed6f",
   "metadata": {},
   "outputs": [],
   "source": [
    "names = ['Kajol',23,42,'Dhivya',35,'Jyothi',40,'Gaya',81,'Pavithra',90,'Shiny',49,'Rasika']"
   ]
  },
  {
   "cell_type": "code",
   "execution_count": 2,
   "id": "b9ba26e8",
   "metadata": {},
   "outputs": [
    {
     "name": "stdout",
     "output_type": "stream",
     "text": [
      "42\n",
      "40\n",
      "90\n"
     ]
    }
   ],
   "source": [
    "for value in names:\n",
    "    if type(value) == int:\n",
    "        if value%2==0:\n",
    "            print(value)"
   ]
  },
  {
   "cell_type": "markdown",
   "id": "e376e36e",
   "metadata": {},
   "source": [
    "### Question 26 "
   ]
  },
  {
   "cell_type": "markdown",
   "id": "7ae27bfa",
   "metadata": {},
   "source": [
    "#### Print the table of 4 using while loop"
   ]
  },
  {
   "cell_type": "code",
   "execution_count": 3,
   "id": "dba5786a",
   "metadata": {},
   "outputs": [
    {
     "name": "stdout",
     "output_type": "stream",
     "text": [
      "4 * 1 = 4\n",
      "4 * 2 = 8\n",
      "4 * 3 = 12\n",
      "4 * 4 = 16\n",
      "4 * 5 = 20\n",
      "4 * 6 = 24\n",
      "4 * 7 = 28\n",
      "4 * 8 = 32\n",
      "4 * 9 = 36\n",
      "4 * 10 = 40\n"
     ]
    }
   ],
   "source": [
    "a = 1\n",
    "while a <= 10:\n",
    "    print(\"4 *\",a, \"=\", 4 * a )\n",
    "    a = a + 1  "
   ]
  },
  {
   "cell_type": "markdown",
   "id": "bc5c80f1",
   "metadata": {},
   "source": [
    "## Question 27 "
   ]
  },
  {
   "cell_type": "markdown",
   "id": "9dc716c9",
   "metadata": {},
   "source": [
    "#### print the even numbers till 100 using while numbers."
   ]
  },
  {
   "cell_type": "code",
   "execution_count": 4,
   "id": "f399cbca",
   "metadata": {},
   "outputs": [
    {
     "name": "stdout",
     "output_type": "stream",
     "text": [
      "2\n",
      "4\n",
      "6\n",
      "8\n",
      "10\n",
      "12\n",
      "14\n",
      "16\n",
      "18\n",
      "20\n",
      "22\n",
      "24\n",
      "26\n",
      "28\n",
      "30\n",
      "32\n",
      "34\n",
      "36\n",
      "38\n",
      "40\n",
      "42\n",
      "44\n",
      "46\n",
      "48\n",
      "50\n",
      "52\n",
      "54\n",
      "56\n",
      "58\n",
      "60\n",
      "62\n",
      "64\n",
      "66\n",
      "68\n",
      "70\n",
      "72\n",
      "74\n",
      "76\n",
      "78\n",
      "80\n",
      "82\n",
      "84\n",
      "86\n",
      "88\n",
      "90\n",
      "92\n",
      "94\n",
      "96\n",
      "98\n",
      "100\n"
     ]
    }
   ],
   "source": [
    "a = 1\n",
    "while a <= 100:\n",
    "    if a % 2 == 0:\n",
    "        print(a)\n",
    "    a = a + 1"
   ]
  },
  {
   "cell_type": "markdown",
   "id": "696d5c79",
   "metadata": {},
   "source": [
    "## Question 28"
   ]
  },
  {
   "cell_type": "markdown",
   "id": "60c07bba",
   "metadata": {},
   "source": [
    "#### Print only the odd numbers from the given list using the for loop:"
   ]
  },
  {
   "cell_type": "code",
   "execution_count": 5,
   "id": "ecef8beb",
   "metadata": {},
   "outputs": [],
   "source": [
    "data = [88,39,80,31,70,90,100,121]"
   ]
  },
  {
   "cell_type": "code",
   "execution_count": 6,
   "id": "68dcafb0",
   "metadata": {},
   "outputs": [
    {
     "name": "stdout",
     "output_type": "stream",
     "text": [
      "39\n",
      "31\n",
      "121\n"
     ]
    }
   ],
   "source": [
    "for i in data:\n",
    "    if i%2!=0:   \n",
    "        print(i)"
   ]
  },
  {
   "cell_type": "markdown",
   "id": "fdea76ef",
   "metadata": {},
   "source": [
    "## Question 29"
   ]
  },
  {
   "cell_type": "markdown",
   "id": "61a13ff8",
   "metadata": {},
   "source": [
    "### Factorial using the for loop: "
   ]
  },
  {
   "cell_type": "code",
   "execution_count": 8,
   "id": "e0b116bc",
   "metadata": {},
   "outputs": [
    {
     "name": "stdout",
     "output_type": "stream",
     "text": [
      "Enter a number5\n",
      "120\n"
     ]
    }
   ],
   "source": [
    "a = int(input(\"Enter a number\"))\n",
    "r = 1                                      \n",
    "for i in range(1,(a+1)):   \n",
    "    r = r * i\n",
    "print(r)"
   ]
  },
  {
   "cell_type": "markdown",
   "id": "2e9fabab",
   "metadata": {},
   "source": [
    "## Question 30 "
   ]
  },
  {
   "cell_type": "markdown",
   "id": "cca0df4d",
   "metadata": {},
   "source": [
    "### Display only the numeric values from the list using while loop."
   ]
  },
  {
   "cell_type": "code",
   "execution_count": 13,
   "id": "98d503af",
   "metadata": {},
   "outputs": [],
   "source": [
    "l = ['Gaya','Yashwanth','Vijay',23,24,25] "
   ]
  },
  {
   "cell_type": "code",
   "execution_count": 15,
   "id": "8829c22b",
   "metadata": {},
   "outputs": [
    {
     "name": "stdout",
     "output_type": "stream",
     "text": [
      "25\n",
      "24\n",
      "23\n"
     ]
    }
   ],
   "source": [
    "i = len(l) - 1\n",
    "while i>=0:\n",
    "    if type(l[i]) == str:\n",
    "         break\n",
    "    print(l[i])\n",
    "    i = i - 1"
   ]
  },
  {
   "cell_type": "markdown",
   "id": "c3a80d2a",
   "metadata": {},
   "source": [
    "## Question 31"
   ]
  },
  {
   "cell_type": "markdown",
   "id": "b6ed1887",
   "metadata": {},
   "source": [
    "### Take a input number from the user and check whether it is prime or not:"
   ]
  },
  {
   "cell_type": "code",
   "execution_count": 21,
   "id": "a6938c38",
   "metadata": {},
   "outputs": [
    {
     "name": "stdout",
     "output_type": "stream",
     "text": [
      "Enter a number5\n",
      "Input number is prime\n"
     ]
    }
   ],
   "source": [
    "a = int(input(\"Enter a number\"))      \n",
    "factors = 0\n",
    "for i in range(1,a+1):\n",
    "    if a%i==0:\n",
    "        factors = factors + 1\n",
    "        \n",
    "        \n",
    "if factors == 2:\n",
    "        print(\"Input number is prime\")\n",
    "else:\n",
    "        print(\"Input number is not prime\")"
   ]
  },
  {
   "cell_type": "markdown",
   "id": "8d4f735b",
   "metadata": {},
   "source": [
    "## Question 32 "
   ]
  },
  {
   "cell_type": "markdown",
   "id": "85b659dd",
   "metadata": {},
   "source": [
    "### Get the sum of all the prime numbers between 1 to 100."
   ]
  },
  {
   "cell_type": "code",
   "execution_count": 22,
   "id": "8e2af3d8",
   "metadata": {},
   "outputs": [
    {
     "name": "stdout",
     "output_type": "stream",
     "text": [
      "The sum of all prime numbers between 1 to 100 is:  1060\n"
     ]
    }
   ],
   "source": [
    "sum = 0\n",
    "for i in range (2,101):\n",
    "    count = 0       \n",
    "    for j in range(1, i+1):\n",
    "        if (i % j == 0):\n",
    "            count = count + 1\n",
    "    if count == 2:\n",
    "        sum= sum + i\n",
    "            \n",
    "            \n",
    "print(\"The sum of all prime numbers between 1 to 100 is: \", sum)"
   ]
  },
  {
   "cell_type": "markdown",
   "id": "13abad0f",
   "metadata": {},
   "source": [
    "## Question 33"
   ]
  },
  {
   "cell_type": "markdown",
   "id": "575e5c6e",
   "metadata": {},
   "source": [
    "### Get the sum of all even numbers from 1 to 50. "
   ]
  },
  {
   "cell_type": "code",
   "execution_count": 16,
   "id": "ba2cfc06",
   "metadata": {},
   "outputs": [
    {
     "name": "stdout",
     "output_type": "stream",
     "text": [
      "The sum of all even numbers from 1 to 50 is: 650\n"
     ]
    }
   ],
   "source": [
    "\n",
    "total_sum = 0\n",
    "for num in range(1, 51):\n",
    "    if num % 2 == 0:\n",
    "        total_sum += num\n",
    "        \n",
    "print(\"The sum of all even numbers from 1 to 50 is:\", total_sum)\n"
   ]
  },
  {
   "cell_type": "markdown",
   "id": "c327c2dc",
   "metadata": {},
   "source": [
    "## UDF: Arguments and Parameters"
   ]
  },
  {
   "cell_type": "markdown",
   "id": "8f922d93",
   "metadata": {},
   "source": [
    "\n",
    "UDF stands for User-Defined Function. It refers to a function that is defined by the user (programmer) rather than provided as part of the programming language's built-in functionality. In Python, as well as in many other programming languages, users can create their own functions to encapsulate specific tasks or pieces of code that they want to reuse multiple times within their programs."
   ]
  },
  {
   "cell_type": "markdown",
   "id": "84e76b85",
   "metadata": {},
   "source": [
    "## Question 34"
   ]
  },
  {
   "cell_type": "markdown",
   "id": "d6bfa018",
   "metadata": {},
   "source": [
    "### Get the factorial of any user defined input value."
   ]
  },
  {
   "cell_type": "code",
   "execution_count": 19,
   "id": "3405ae48",
   "metadata": {},
   "outputs": [
    {
     "name": "stdout",
     "output_type": "stream",
     "text": [
      "Enter a number to calculate its factorial: 5\n",
      "The factorial of 5 is 120.\n"
     ]
    }
   ],
   "source": [
    "\n",
    "def factorial_loop(n):\n",
    "    factorial = 1\n",
    "    for i in range(1, n + 1):\n",
    "        factorial *= i\n",
    "    return factorial\n",
    "\n",
    "num = int(input(\"Enter a number to calculate its factorial: \"))\n",
    "\n",
    "if num < 0:\n",
    "    print(\"Factorial is not defined for negative numbers.\")\n",
    "elif num == 0:\n",
    "    print(\"The factorial of 0 is 1.\")\n",
    "else:\n",
    "    result = factorial_loop(num)\n",
    "    print(f\"The factorial of {num} is {result}.\")"
   ]
  },
  {
   "cell_type": "markdown",
   "id": "05edf14c",
   "metadata": {},
   "source": [
    "## Question 34"
   ]
  },
  {
   "cell_type": "markdown",
   "id": "33211876",
   "metadata": {},
   "source": [
    "### How many prime numbers and composite numbers are there from 1 to 100."
   ]
  },
  {
   "cell_type": "code",
   "execution_count": 20,
   "id": "7d471e1e",
   "metadata": {},
   "outputs": [
    {
     "name": "stdout",
     "output_type": "stream",
     "text": [
      "Number of prime numbers from 1 to 100: 25\n",
      "Number of composite numbers from 1 to 100: 75\n"
     ]
    }
   ],
   "source": [
    "def is_prime(n):\n",
    "    if n <= 1:\n",
    "        return False\n",
    "    for i in range(2, int(n**0.5) + 1):\n",
    "        if n % i == 0:\n",
    "            return False\n",
    "    return True\n",
    "\n",
    "prime_count = 0\n",
    "composite_count = 0\n",
    "\n",
    "for num in range(1, 101):\n",
    "    if is_prime(num):\n",
    "        prime_count += 1\n",
    "    else:\n",
    "        composite_count += 1\n",
    "\n",
    "print(f\"Number of prime numbers from 1 to 100: {prime_count}\")\n",
    "print(f\"Number of composite numbers from 1 to 100: {composite_count}\")\n"
   ]
  },
  {
   "cell_type": "markdown",
   "id": "d4e8b853",
   "metadata": {},
   "source": [
    "## Question 35"
   ]
  },
  {
   "cell_type": "code",
   "execution_count": null,
   "id": "3d8b15f3",
   "metadata": {},
   "outputs": [],
   "source": [
    "Create a UDF which gives the average of 4 random numbers."
   ]
  },
  {
   "cell_type": "code",
   "execution_count": 24,
   "id": "9caf11d9",
   "metadata": {},
   "outputs": [
    {
     "name": "stdout",
     "output_type": "stream",
     "text": [
      "The average of four random numbers is: 20.0\n"
     ]
    }
   ],
   "source": [
    "def avg_6(a,b,c,d):\n",
    "    print(\"The average of four random numbers is:\",(a+b+c+d)/5)\n",
    "    \n",
    "avg_6(b = 10, d = 20,a = 30,c = 40)    "
   ]
  },
  {
   "cell_type": "markdown",
   "id": "5174ec54",
   "metadata": {},
   "source": [
    "## Question 36  "
   ]
  },
  {
   "cell_type": "code",
   "execution_count": null,
   "id": "ca7f5bc4",
   "metadata": {},
   "outputs": [],
   "source": [
    "Create a UDF which gives the average of n number of values using with the keyword arguments"
   ]
  },
  {
   "cell_type": "code",
   "execution_count": 25,
   "id": "cc1e704d",
   "metadata": {},
   "outputs": [
    {
     "data": {
      "text/plain": [
       "20.0"
      ]
     },
     "execution_count": 25,
     "metadata": {},
     "output_type": "execute_result"
    }
   ],
   "source": [
    "def avg_kn(**kwargs):  #kwargs\n",
    "    sum_z = sum(kwargs.values())\n",
    "    avg = sum_z/len(kwargs)\n",
    "    return avg\n",
    "\n",
    "avg_kn(a = 10,b = 20,c = 30)"
   ]
  },
  {
   "cell_type": "markdown",
   "id": "5f32f34d",
   "metadata": {},
   "source": [
    "## Question 37"
   ]
  },
  {
   "cell_type": "code",
   "execution_count": 26,
   "id": "faa751cf",
   "metadata": {},
   "outputs": [
    {
     "ename": "SyntaxError",
     "evalue": "invalid syntax (3893863009.py, line 1)",
     "output_type": "error",
     "traceback": [
      "\u001b[1;36m  Cell \u001b[1;32mIn[26], line 1\u001b[1;36m\u001b[0m\n\u001b[1;33m    Create a UDF which takes a username as an input and a password as an input and your favourite question as an input.\u001b[0m\n\u001b[1;37m           ^\u001b[0m\n\u001b[1;31mSyntaxError\u001b[0m\u001b[1;31m:\u001b[0m invalid syntax\n"
     ]
    }
   ],
   "source": [
    "Create a UDF which takes a username as an input and a password as an input and your favourite question as an input.\n",
    "#username should be the name for eg himanshu\n",
    "#password can be alphanumeric for captain@1123\n",
    "#What is your pet's name? Little"
   ]
  },
  {
   "cell_type": "code",
   "execution_count": 27,
   "id": "ffefd4a9",
   "metadata": {},
   "outputs": [
    {
     "ename": "KeyboardInterrupt",
     "evalue": "Interrupted by user",
     "output_type": "error",
     "traceback": [
      "\u001b[1;31m---------------------------------------------------------------------------\u001b[0m",
      "\u001b[1;31mKeyboardInterrupt\u001b[0m                         Traceback (most recent call last)",
      "Cell \u001b[1;32mIn[27], line 1\u001b[0m\n\u001b[1;32m----> 1\u001b[0m username \u001b[38;5;241m=\u001b[39m \u001b[38;5;28minput\u001b[39m(\u001b[38;5;124m\"\u001b[39m\u001b[38;5;124mEnter your username\u001b[39m\u001b[38;5;124m\"\u001b[39m)\n\u001b[0;32m      2\u001b[0m password \u001b[38;5;241m=\u001b[39m \u001b[38;5;28minput\u001b[39m(\u001b[38;5;124m\"\u001b[39m\u001b[38;5;124mEnter the password\u001b[39m\u001b[38;5;124m\"\u001b[39m)\n\u001b[0;32m      3\u001b[0m question \u001b[38;5;241m=\u001b[39m \u001b[38;5;28minput\u001b[39m(\u001b[38;5;124m\"\u001b[39m\u001b[38;5;124mWhat is your favourite animal?\u001b[39m\u001b[38;5;124m\"\u001b[39m)\n",
      "File \u001b[1;32m~\\anaconda3\\Lib\\site-packages\\ipykernel\\kernelbase.py:1202\u001b[0m, in \u001b[0;36mKernel.raw_input\u001b[1;34m(self, prompt)\u001b[0m\n\u001b[0;32m   1200\u001b[0m     msg \u001b[38;5;241m=\u001b[39m \u001b[38;5;124m\"\u001b[39m\u001b[38;5;124mraw_input was called, but this frontend does not support input requests.\u001b[39m\u001b[38;5;124m\"\u001b[39m\n\u001b[0;32m   1201\u001b[0m     \u001b[38;5;28;01mraise\u001b[39;00m StdinNotImplementedError(msg)\n\u001b[1;32m-> 1202\u001b[0m \u001b[38;5;28;01mreturn\u001b[39;00m \u001b[38;5;28mself\u001b[39m\u001b[38;5;241m.\u001b[39m_input_request(\n\u001b[0;32m   1203\u001b[0m     \u001b[38;5;28mstr\u001b[39m(prompt),\n\u001b[0;32m   1204\u001b[0m     \u001b[38;5;28mself\u001b[39m\u001b[38;5;241m.\u001b[39m_parent_ident[\u001b[38;5;124m\"\u001b[39m\u001b[38;5;124mshell\u001b[39m\u001b[38;5;124m\"\u001b[39m],\n\u001b[0;32m   1205\u001b[0m     \u001b[38;5;28mself\u001b[39m\u001b[38;5;241m.\u001b[39mget_parent(\u001b[38;5;124m\"\u001b[39m\u001b[38;5;124mshell\u001b[39m\u001b[38;5;124m\"\u001b[39m),\n\u001b[0;32m   1206\u001b[0m     password\u001b[38;5;241m=\u001b[39m\u001b[38;5;28;01mFalse\u001b[39;00m,\n\u001b[0;32m   1207\u001b[0m )\n",
      "File \u001b[1;32m~\\anaconda3\\Lib\\site-packages\\ipykernel\\kernelbase.py:1245\u001b[0m, in \u001b[0;36mKernel._input_request\u001b[1;34m(self, prompt, ident, parent, password)\u001b[0m\n\u001b[0;32m   1242\u001b[0m \u001b[38;5;28;01mexcept\u001b[39;00m \u001b[38;5;167;01mKeyboardInterrupt\u001b[39;00m:\n\u001b[0;32m   1243\u001b[0m     \u001b[38;5;66;03m# re-raise KeyboardInterrupt, to truncate traceback\u001b[39;00m\n\u001b[0;32m   1244\u001b[0m     msg \u001b[38;5;241m=\u001b[39m \u001b[38;5;124m\"\u001b[39m\u001b[38;5;124mInterrupted by user\u001b[39m\u001b[38;5;124m\"\u001b[39m\n\u001b[1;32m-> 1245\u001b[0m     \u001b[38;5;28;01mraise\u001b[39;00m \u001b[38;5;167;01mKeyboardInterrupt\u001b[39;00m(msg) \u001b[38;5;28;01mfrom\u001b[39;00m \u001b[38;5;28;01mNone\u001b[39;00m\n\u001b[0;32m   1246\u001b[0m \u001b[38;5;28;01mexcept\u001b[39;00m \u001b[38;5;167;01mException\u001b[39;00m:\n\u001b[0;32m   1247\u001b[0m     \u001b[38;5;28mself\u001b[39m\u001b[38;5;241m.\u001b[39mlog\u001b[38;5;241m.\u001b[39mwarning(\u001b[38;5;124m\"\u001b[39m\u001b[38;5;124mInvalid Message:\u001b[39m\u001b[38;5;124m\"\u001b[39m, exc_info\u001b[38;5;241m=\u001b[39m\u001b[38;5;28;01mTrue\u001b[39;00m)\n",
      "\u001b[1;31mKeyboardInterrupt\u001b[0m: Interrupted by user"
     ]
    }
   ],
   "source": [
    "username = input(\"Enter your username\")\n",
    "password = input(\"Enter the password\")\n",
    "question = input(\"What is your favourite animal?\")\n",
    "def cyber_security(u,p,q):\n",
    "    if u == 'Himanshu' and p == 'gotohell' and q == 'Horse':\n",
    "        print(\"Hi\",u,\",Welcome to the lab.\")\n",
    "    else:\n",
    "        print(\"Invalid user entered....Security Alarms activated.\")\n",
    "        \n",
    "\n",
    "cyber_security(username,password,question)"
   ]
  },
  {
   "cell_type": "markdown",
   "id": "21b9ee99",
   "metadata": {},
   "source": [
    "# Lambda Function:"
   ]
  },
  {
   "cell_type": "markdown",
   "id": "4d91a853",
   "metadata": {},
   "source": [
    "\n",
    "A lambda function, also known as an anonymous function or lambda expression, is a small, inline function defined using the lambda keyword in Python.They are typically used when you need a simple function for a short period of time and don't want to define a separate function using the def keyword."
   ]
  },
  {
   "cell_type": "markdown",
   "id": "32e53c65",
   "metadata": {},
   "source": [
    "## Question 38"
   ]
  },
  {
   "cell_type": "code",
   "execution_count": null,
   "id": "6929852e",
   "metadata": {},
   "outputs": [],
   "source": [
    "Using the lambda, you have to get the floor value of each of the value given in the original list"
   ]
  },
  {
   "cell_type": "code",
   "execution_count": 28,
   "id": "daf99cc6",
   "metadata": {},
   "outputs": [
    {
     "data": {
      "text/plain": [
       "[4.0, 6.0, 12.0, 5.0, 2.0, 1.0, 3.0]"
      ]
     },
     "execution_count": 28,
     "metadata": {},
     "output_type": "execute_result"
    }
   ],
   "source": [
    "data = [23.456,34.987,60.2826,27.2727,14.3898,9.2272,15.878937] \n",
    "\n",
    "list(map(lambda i : i//5 , data))"
   ]
  },
  {
   "cell_type": "markdown",
   "id": "d43f5d29",
   "metadata": {},
   "source": [
    "## Question 39"
   ]
  },
  {
   "cell_type": "code",
   "execution_count": null,
   "id": "ab930819",
   "metadata": {},
   "outputs": [],
   "source": [
    "Get those even values which are greater than 50 from the list using lambda function."
   ]
  },
  {
   "cell_type": "code",
   "execution_count": 29,
   "id": "6aadb705",
   "metadata": {},
   "outputs": [
    {
     "data": {
      "text/plain": [
       "[66, 96, 60, 72, 84]"
      ]
     },
     "execution_count": 29,
     "metadata": {},
     "output_type": "execute_result"
    }
   ],
   "source": [
    "F = [12,35,66,9,96,25,39,33,45,48,60,72,77,84,91,3,21]\n",
    "\n",
    "list(filter(lambda i : i%2 == 0 and i > 50 , F))"
   ]
  },
  {
   "cell_type": "markdown",
   "id": "9fb9304b",
   "metadata": {},
   "source": [
    "## Question 40"
   ]
  },
  {
   "cell_type": "code",
   "execution_count": null,
   "id": "81d8af18",
   "metadata": {},
   "outputs": [],
   "source": [
    "create a UDF which gives a sorted list as per their employee ids."
   ]
  },
  {
   "cell_type": "code",
   "execution_count": 33,
   "id": "aadc74ec",
   "metadata": {},
   "outputs": [
    {
     "name": "stdout",
     "output_type": "stream",
     "text": [
      "['101 Himanshu', '102 Gaya', '111 Yashwanth', '130 Chetan', '203 Swagath', '260 Dhivya', '301 Vijay', '403 Sidhant', '406 Pavithra', '502 Bilal']\n"
     ]
    }
   ],
   "source": [
    "employees = ['101 Himanshu','203 Swagath','301 Vijay','102 Gaya','403 Sidhant','406 Pavithra','260 Dhivya','130 Chetan','502 Bilal','111 Yashwanth']\n",
    "sorted_employees = sorted(employees, key=lambda x: int(x.split()[0]))\n",
    "\n",
    "print(sorted_employees)"
   ]
  },
  {
   "cell_type": "markdown",
   "id": "3cca79c5",
   "metadata": {},
   "source": [
    "# List comprehension"
   ]
  },
  {
   "cell_type": "markdown",
   "id": "ababbf96",
   "metadata": {},
   "source": [
    "List comprehension is a concise way to create lists in Python by applying an expression to each item in an iterable. It allows you to generate a new list based on an existing iterable (such as a list, tuple, or range) with minimal code."
   ]
  },
  {
   "cell_type": "markdown",
   "id": "5bf55552",
   "metadata": {},
   "source": [
    "## Question 41"
   ]
  },
  {
   "cell_type": "code",
   "execution_count": null,
   "id": "a3eb7bf6",
   "metadata": {},
   "outputs": [],
   "source": [
    "From the given list , get the data and add them into a new list after:\n",
    "\n",
    "#multiplying them with 1000 with numbers which are less than 100.\n",
    "#multiplying them with 100 with numbers which are greater than equal to 100."
   ]
  },
  {
   "cell_type": "code",
   "execution_count": 34,
   "id": "c517a22b",
   "metadata": {},
   "outputs": [
    {
     "name": "stdout",
     "output_type": "stream",
     "text": [
      "[14000, 10200, 12100, 23000, 13000, 26000, 34000, 45000, 14800, 13100, 12800, 21000, 11800, 13300, 14400, 44000, 33000]\n"
     ]
    }
   ],
   "source": [
    "p = [14,102,121,23,130,26,34,45,148,131,128,21,118,133,144,44,33]\n",
    "\n",
    "output = [((i*1000) if (i<100) else (i*100)) for i in p]\n",
    "print(output)"
   ]
  },
  {
   "cell_type": "markdown",
   "id": "36ee6532",
   "metadata": {},
   "source": [
    "## Question 42"
   ]
  },
  {
   "cell_type": "code",
   "execution_count": null,
   "id": "e52fe153",
   "metadata": {},
   "outputs": [],
   "source": [
    "Given a list of strings, create a list comprehension to generate a new list containing the lengths of those strings."
   ]
  },
  {
   "cell_type": "code",
   "execution_count": 35,
   "id": "90ad3b07",
   "metadata": {},
   "outputs": [
    {
     "name": "stdout",
     "output_type": "stream",
     "text": [
      "[5, 6, 6, 5]\n"
     ]
    }
   ],
   "source": [
    "strings = [\"apple\", \"banana\", \"orange\", \"grape\"]\n",
    "lengths = [len(x) for x in strings]\n",
    "print(lengths)"
   ]
  },
  {
   "cell_type": "markdown",
   "id": "05f8a944",
   "metadata": {},
   "source": [
    "## Question 43"
   ]
  },
  {
   "cell_type": "code",
   "execution_count": null,
   "id": "c9ea8f53",
   "metadata": {},
   "outputs": [],
   "source": [
    "Create a list comprehension to generate a list of only even numbers from 1 to 20."
   ]
  },
  {
   "cell_type": "code",
   "execution_count": 36,
   "id": "bd1bc800",
   "metadata": {},
   "outputs": [
    {
     "name": "stdout",
     "output_type": "stream",
     "text": [
      "[2, 4, 6, 8, 10, 12, 14, 16, 18, 20]\n"
     ]
    }
   ],
   "source": [
    "evens = [x for x in range(1, 21) if x % 2 == 0]\n",
    "print(evens)"
   ]
  },
  {
   "cell_type": "markdown",
   "id": "9f0490d0",
   "metadata": {},
   "source": [
    "## Question 44"
   ]
  },
  {
   "cell_type": "code",
   "execution_count": null,
   "id": "dcb4cc45",
   "metadata": {},
   "outputs": [],
   "source": [
    " Create a list comprehension to generate a list of squares of numbers from 1 to 10"
   ]
  },
  {
   "cell_type": "code",
   "execution_count": 37,
   "id": "29ee2a30",
   "metadata": {},
   "outputs": [
    {
     "name": "stdout",
     "output_type": "stream",
     "text": [
      "[1, 4, 9, 16, 25, 36, 49, 64, 81, 100]\n"
     ]
    }
   ],
   "source": [
    "squares = [x**2 for x in range(1, 11)]\n",
    "print(squares)"
   ]
  },
  {
   "cell_type": "markdown",
   "id": "5e70107a",
   "metadata": {},
   "source": [
    "# Class Creation"
   ]
  },
  {
   "cell_type": "markdown",
   "id": "deec6591",
   "metadata": {},
   "source": [
    "Class functions/methods are called using dot notation (object.method()), where object is an instance of the class. They operate on the data stored in the object's attributes and provide behavior specific to the class."
   ]
  },
  {
   "cell_type": "markdown",
   "id": "cb4bc619",
   "metadata": {},
   "source": [
    "## Question 45"
   ]
  },
  {
   "cell_type": "code",
   "execution_count": null,
   "id": "41a7c4a8",
   "metadata": {},
   "outputs": [],
   "source": [
    "How can you define a simple class in Python?"
   ]
  },
  {
   "cell_type": "code",
   "execution_count": 38,
   "id": "44e1eee3",
   "metadata": {},
   "outputs": [
    {
     "name": "stdout",
     "output_type": "stream",
     "text": [
      "Value of x: 5\n"
     ]
    }
   ],
   "source": [
    "\n",
    "class MyClass:\n",
    "    def __init__(self, x):\n",
    "        self.x = x\n",
    "\n",
    "    def display(self):\n",
    "        print(\"Value of x:\", self.x)\n",
    "\n",
    "# Creating an object of MyClass\n",
    "obj = MyClass(5)\n",
    "obj.display()\n"
   ]
  },
  {
   "cell_type": "markdown",
   "id": "3c1f98d1",
   "metadata": {},
   "source": [
    "## Question 46"
   ]
  },
  {
   "cell_type": "code",
   "execution_count": null,
   "id": "94873c0b",
   "metadata": {},
   "outputs": [],
   "source": [
    "Create a class Rectangle with attributes width and height. Implement methods to calculate the area and perimeter of the rectangle"
   ]
  },
  {
   "cell_type": "code",
   "execution_count": 39,
   "id": "f1746da7",
   "metadata": {},
   "outputs": [
    {
     "name": "stdout",
     "output_type": "stream",
     "text": [
      "Area: 20\n",
      "Perimeter: 18\n"
     ]
    }
   ],
   "source": [
    "class Rectangle:\n",
    "    def __init__(self, width, height):\n",
    "        self.width = width\n",
    "        self.height = height\n",
    "    \n",
    "    def area(self):\n",
    "        return self.width * self.height\n",
    "    \n",
    "    def perimeter(self):\n",
    "        return 2 * (self.width + self.height)\n",
    "\n",
    "# Example usage:\n",
    "rect = Rectangle(4, 5)\n",
    "print(\"Area:\", rect.area())        \n",
    "print(\"Perimeter:\", rect.perimeter())  \n"
   ]
  },
  {
   "cell_type": "markdown",
   "id": "77e32ca7",
   "metadata": {},
   "source": [
    "# Class Inheritance:"
   ]
  },
  {
   "cell_type": "markdown",
   "id": "9d31b2aa",
   "metadata": {},
   "source": [
    "Class inheritance in Python refers to the mechanism by which one class (the subclass or child class) can inherit attributes and methods from another class (the superclass or parent class). This inheritance allows the subclass to reuse code from the superclass, promoting code reusability, organization, and extensibility."
   ]
  },
  {
   "cell_type": "markdown",
   "id": "896321a6",
   "metadata": {},
   "source": [
    "## Question 47 "
   ]
  },
  {
   "cell_type": "code",
   "execution_count": null,
   "id": "818ac7ac",
   "metadata": {},
   "outputs": [],
   "source": [
    "What is class inheritance, and how can you create a subclass in Python?"
   ]
  },
  {
   "cell_type": "code",
   "execution_count": 40,
   "id": "f9252d63",
   "metadata": {},
   "outputs": [
    {
     "name": "stdout",
     "output_type": "stream",
     "text": [
      "Parent class constructor\n",
      "Child class constructor\n"
     ]
    }
   ],
   "source": [
    "\n",
    "class ParentClass:\n",
    "    def __init__(self):\n",
    "        print(\"Parent class constructor\")\n",
    "\n",
    "class ChildClass(ParentClass):\n",
    "    def __init__(self):\n",
    "        super().__init__()                                                           # Call the constructor of the parent class\n",
    "        print(\"Child class constructor\")\n",
    "\n",
    "# Creating an object of ChildClass\n",
    "obj = ChildClass()"
   ]
  },
  {
   "cell_type": "markdown",
   "id": "4e71d377",
   "metadata": {},
   "source": [
    "## Question 48 "
   ]
  },
  {
   "cell_type": "code",
   "execution_count": null,
   "id": "049b2598",
   "metadata": {},
   "outputs": [],
   "source": [
    "How can you override a method from the parent class in the subclass?"
   ]
  },
  {
   "cell_type": "code",
   "execution_count": 41,
   "id": "cbeea423",
   "metadata": {},
   "outputs": [
    {
     "name": "stdout",
     "output_type": "stream",
     "text": [
      "Child class method\n"
     ]
    }
   ],
   "source": [
    "class ParentClass:\n",
    "    def display(self):\n",
    "        print(\"Parent class method\")\n",
    "\n",
    "class ChildClass(ParentClass):\n",
    "    def display(self):\n",
    "        print(\"Child class method\")\n",
    "\n",
    "# Creating an object of ChildClass\n",
    "obj = ChildClass()\n",
    "obj.display()"
   ]
  },
  {
   "cell_type": "markdown",
   "id": "ace0b441",
   "metadata": {},
   "source": [
    "## Question 49 "
   ]
  },
  {
   "cell_type": "code",
   "execution_count": null,
   "id": "8e9c48ca",
   "metadata": {},
   "outputs": [],
   "source": [
    "Can a subclass have its own attributes and methods in addition to inheriting from the parent class?"
   ]
  },
  {
   "cell_type": "code",
   "execution_count": null,
   "id": "50ce28c7",
   "metadata": {},
   "outputs": [],
   "source": [
    "class ParentClass:\n",
    "    def parent_method(self):\n",
    "        print(\"Parent class method\")\n",
    "\n",
    "class ChildClass(ParentClass):\n",
    "    def __init__(self, x):\n",
    "        self.x = x\n",
    "\n",
    "    def child_method(self):\n",
    "        print(\"Child class method\")\n",
    "\n",
    "# Creating an object of ChildClass\n",
    "obj = ChildClass(5)\n",
    "obj.parent_method()\n",
    "obj.child_method()\n"
   ]
  },
  {
   "cell_type": "markdown",
   "id": "0c39bd18",
   "metadata": {},
   "source": [
    "## Question 50 "
   ]
  },
  {
   "cell_type": "code",
   "execution_count": null,
   "id": "e1794e35",
   "metadata": {},
   "outputs": [],
   "source": [
    "Create a base class Animal with a method speak(). Create derived classes Dog and Cat inheriting from Animal and override the speak() method in each derived class to print the sound of a dog and a cat, respectively."
   ]
  },
  {
   "cell_type": "code",
   "execution_count": 43,
   "id": "b8ffa28d",
   "metadata": {},
   "outputs": [
    {
     "name": "stdout",
     "output_type": "stream",
     "text": [
      "Woof!\n",
      "Meow!\n"
     ]
    }
   ],
   "source": [
    "class Animal:\n",
    "    def speak(self):\n",
    "        pass\n",
    "\n",
    "class Dog(Animal):\n",
    "    def speak(self):\n",
    "        print(\"Woof!\")\n",
    "\n",
    "class Cat(Animal):\n",
    "    def speak(self):\n",
    "        print(\"Meow!\")\n",
    "\n",
    "# Example usage:\n",
    "dog = Dog()\n",
    "dog.speak()  # Output: Woof!\n",
    "cat = Cat()\n",
    "cat.speak()  # Output: Meow!\n"
   ]
  },
  {
   "cell_type": "markdown",
   "id": "326bb28d",
   "metadata": {},
   "source": [
    "## Qusetion 51"
   ]
  },
  {
   "cell_type": "code",
   "execution_count": null,
   "id": "24759faa",
   "metadata": {},
   "outputs": [],
   "source": []
  },
  {
   "cell_type": "code",
   "execution_count": null,
   "id": "ed55a989",
   "metadata": {},
   "outputs": [],
   "source": []
  },
  {
   "cell_type": "code",
   "execution_count": null,
   "id": "5333fcaa",
   "metadata": {},
   "outputs": [],
   "source": []
  },
  {
   "cell_type": "code",
   "execution_count": null,
   "id": "af848823",
   "metadata": {},
   "outputs": [],
   "source": []
  },
  {
   "cell_type": "code",
   "execution_count": null,
   "id": "294981d0",
   "metadata": {},
   "outputs": [],
   "source": []
  }
 ],
 "metadata": {
  "kernelspec": {
   "display_name": "Python 3 (ipykernel)",
   "language": "python",
   "name": "python3"
  },
  "language_info": {
   "codemirror_mode": {
    "name": "ipython",
    "version": 3
   },
   "file_extension": ".py",
   "mimetype": "text/x-python",
   "name": "python",
   "nbconvert_exporter": "python",
   "pygments_lexer": "ipython3",
   "version": "3.11.5"
  }
 },
 "nbformat": 4,
 "nbformat_minor": 5
}
